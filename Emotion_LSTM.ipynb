{
  "nbformat": 4,
  "nbformat_minor": 0,
  "metadata": {
    "colab": {
      "name": "Emotion-LSTM.ipynb",
      "provenance": [],
      "collapsed_sections": [],
      "mount_file_id": "11uTiXUFa47xXLNNISewTtDrRi2D5BfVw",
      "authorship_tag": "ABX9TyPXcmiXDcikCSYMBED10lVi"
    },
    "kernelspec": {
      "name": "python3",
      "display_name": "Python 3"
    },
    "accelerator": "GPU"
  },
  "cells": [
    {
      "cell_type": "code",
      "metadata": {
        "id": "fEzGpE3LUcsW"
      },
      "source": [
        "import os\r\n",
        "import sys\r\n",
        "import numpy as np\r\n",
        "import pandas as pd\r\n",
        "import matplotlib.pyplot as plt\r\n",
        "%matplotlib inline\r\n",
        "import tensorflow as tf\r\n",
        "from tensorflow.keras.utils import to_categorical\r\n",
        "from tensorflow.keras.preprocessing.text import Tokenizer\r\n",
        "from tensorflow.keras.preprocessing.sequence import pad_sequences\r\n",
        "from tensorflow.keras.models import Sequential\r\n",
        "from tensorflow.keras.layers import Dense, Conv1D, Embedding, MaxPooling1D, GlobalMaxPooling1D, LSTM, Dropout,SimpleRNN,Bidirectional,Attention\r\n",
        "from tensorflow.keras.callbacks import EarlyStopping\r\n",
        "from sklearn.metrics import classification_report\r\n",
        "from sklearn.model_selection import train_test_split\r\n",
        "import re"
      ],
      "execution_count": null,
      "outputs": []
    },
    {
      "cell_type": "code",
      "metadata": {
        "id": "pwb7wmpCUiKK"
      },
      "source": [
        "MAX_SEQUENCE_LENGTH = 300\r\n",
        "MAX_VOCAB_SIZE = 20000\r\n",
        "EMBEDDING_DIM = 200"
      ],
      "execution_count": null,
      "outputs": []
    },
    {
      "cell_type": "code",
      "metadata": {
        "colab": {
          "base_uri": "https://localhost:8080/",
          "height": 256
        },
        "id": "43nwLEndUmpJ",
        "outputId": "01b96b66-03a4-4f86-c202-1e728be75422"
      },
      "source": [
        "df = pd.read_csv('/content/drive/MyDrive/MentalHealthProject/Balanced/MentalHealthTextual.txt', names=['Class','Text'], sep='\\t')\r\n",
        "df\r\n",
        "df.groupby('Class').count()\r\n",
        "#, skiprows=1"
      ],
      "execution_count": null,
      "outputs": [
        {
          "output_type": "execute_result",
          "data": {
            "text/html": [
              "<div>\n",
              "<style scoped>\n",
              "    .dataframe tbody tr th:only-of-type {\n",
              "        vertical-align: middle;\n",
              "    }\n",
              "\n",
              "    .dataframe tbody tr th {\n",
              "        vertical-align: top;\n",
              "    }\n",
              "\n",
              "    .dataframe thead th {\n",
              "        text-align: right;\n",
              "    }\n",
              "</style>\n",
              "<table border=\"1\" class=\"dataframe\">\n",
              "  <thead>\n",
              "    <tr style=\"text-align: right;\">\n",
              "      <th></th>\n",
              "      <th>Text</th>\n",
              "    </tr>\n",
              "    <tr>\n",
              "      <th>Class</th>\n",
              "      <th></th>\n",
              "    </tr>\n",
              "  </thead>\n",
              "  <tbody>\n",
              "    <tr>\n",
              "      <th>__label__anger</th>\n",
              "      <td>50000</td>\n",
              "    </tr>\n",
              "    <tr>\n",
              "      <th>__label__disgust</th>\n",
              "      <td>50000</td>\n",
              "    </tr>\n",
              "    <tr>\n",
              "      <th>__label__fear</th>\n",
              "      <td>50000</td>\n",
              "    </tr>\n",
              "    <tr>\n",
              "      <th>__label__joy</th>\n",
              "      <td>50000</td>\n",
              "    </tr>\n",
              "    <tr>\n",
              "      <th>__label__sadness</th>\n",
              "      <td>50000</td>\n",
              "    </tr>\n",
              "    <tr>\n",
              "      <th>__label__surprise</th>\n",
              "      <td>50000</td>\n",
              "    </tr>\n",
              "  </tbody>\n",
              "</table>\n",
              "</div>"
            ],
            "text/plain": [
              "                    Text\n",
              "Class                   \n",
              "__label__anger     50000\n",
              "__label__disgust   50000\n",
              "__label__fear      50000\n",
              "__label__joy       50000\n",
              "__label__sadness   50000\n",
              "__label__surprise  50000"
            ]
          },
          "metadata": {
            "tags": []
          },
          "execution_count": 3
        }
      ]
    },
    {
      "cell_type": "code",
      "metadata": {
        "id": "Nj3q6YM1UnWJ"
      },
      "source": [
        "sentences = df['Text'].values.astype(str)\r\n",
        "target = df['Class'].map({'__label__anger':0,'__label__fear':1,'__label__disgust':2,'__label__joy':3,'__label__sadness':4,'__label__surprise':5}).values"
      ],
      "execution_count": null,
      "outputs": []
    },
    {
      "cell_type": "code",
      "metadata": {
        "id": "7pPUj09kUq8g"
      },
      "source": [
        "target_cat = to_categorical(target, num_classes=6)"
      ],
      "execution_count": null,
      "outputs": []
    },
    {
      "cell_type": "code",
      "metadata": {
        "id": "GGwmvTgfUsgo"
      },
      "source": [
        "tokenizer = Tokenizer(num_words=MAX_VOCAB_SIZE)\r\n",
        "tokenizer.fit_on_texts(sentences)\r\n",
        "sequences = tokenizer.texts_to_sequences(sentences)\r\n",
        "word2idx = tokenizer.word_index #dictionary of all unique words in our document"
      ],
      "execution_count": null,
      "outputs": []
    },
    {
      "cell_type": "code",
      "metadata": {
        "colab": {
          "base_uri": "https://localhost:8080/"
        },
        "id": "RdkETnaLUuH5",
        "outputId": "9b49c262-b89d-460f-a7a2-e6b19a590908"
      },
      "source": [
        "data = pad_sequences(sequences,maxlen=MAX_SEQUENCE_LENGTH)\r\n",
        "num_words = min(MAX_VOCAB_SIZE,len(word2idx)+1)\r\n",
        "print(MAX_SEQUENCE_LENGTH)\r\n",
        "print(num_words)"
      ],
      "execution_count": null,
      "outputs": [
        {
          "output_type": "stream",
          "text": [
            "300\n",
            "20000\n"
          ],
          "name": "stdout"
        }
      ]
    },
    {
      "cell_type": "code",
      "metadata": {
        "id": "2VvDP7iDUwHQ"
      },
      "source": [
        "X_train, X_test, y_train, y_test = train_test_split(data,target_cat,test_size=0.2, shuffle=True, random_state=98,stratify=target_cat)\r\n"
      ],
      "execution_count": null,
      "outputs": []
    },
    {
      "cell_type": "code",
      "metadata": {
        "id": "m2lAiKOcU0nB"
      },
      "source": [
        "#LSTM\r\n",
        "model2 = Sequential()"
      ],
      "execution_count": null,
      "outputs": []
    },
    {
      "cell_type": "code",
      "metadata": {
        "id": "ZI2prrfpU407"
      },
      "source": [
        "model2.add(Embedding(num_words,EMBEDDING_DIM,input_length=MAX_SEQUENCE_LENGTH,trainable=True,input_shape=(MAX_SEQUENCE_LENGTH,)))\r\n",
        "model2.add(LSTM(1024,return_sequences=True))\r\n",
        "model2.add(GlobalMaxPooling1D())\r\n",
        "model2.add(Dense(6,activation='softmax'))\r\n",
        "model2.compile(optimizer='adam',loss='categorical_crossentropy',metrics=['accuracy'])"
      ],
      "execution_count": null,
      "outputs": []
    },
    {
      "cell_type": "code",
      "metadata": {
        "colab": {
          "base_uri": "https://localhost:8080/"
        },
        "id": "EFWNpYgxU-QA",
        "outputId": "31cce443-7294-4dd9-e8eb-fbfd9724c168"
      },
      "source": [
        "early_stop = EarlyStopping(monitor='val_loss',patience=3,mode='min')\r\n",
        "model2.fit(X_train,y_train,batch_size=128,epochs=1,validation_data=(X_test,y_test),callbacks=[early_stop])"
      ],
      "execution_count": null,
      "outputs": [
        {
          "output_type": "stream",
          "text": [
            "1875/1875 [==============================] - 848s 448ms/step - loss: 0.7611 - accuracy: 0.7186 - val_loss: 0.2668 - val_accuracy: 0.9082\n"
          ],
          "name": "stdout"
        },
        {
          "output_type": "execute_result",
          "data": {
            "text/plain": [
              "<tensorflow.python.keras.callbacks.History at 0x7f382a563b38>"
            ]
          },
          "metadata": {
            "tags": []
          },
          "execution_count": 11
        }
      ]
    },
    {
      "cell_type": "code",
      "metadata": {
        "colab": {
          "base_uri": "https://localhost:8080/"
        },
        "id": "Fjq5OlJWVAPB",
        "outputId": "3ae45e64-4470-4c4a-f9d2-1f2c958cc129"
      },
      "source": [
        "pred2 = model2.predict_classes(X_test)"
      ],
      "execution_count": null,
      "outputs": [
        {
          "output_type": "stream",
          "text": [
            "/usr/local/lib/python3.6/dist-packages/tensorflow/python/keras/engine/sequential.py:450: UserWarning: `model.predict_classes()` is deprecated and will be removed after 2021-01-01. Please use instead:* `np.argmax(model.predict(x), axis=-1)`,   if your model does multi-class classification   (e.g. if it uses a `softmax` last-layer activation).* `(model.predict(x) > 0.5).astype(\"int32\")`,   if your model does binary classification   (e.g. if it uses a `sigmoid` last-layer activation).\n",
            "  warnings.warn('`model.predict_classes()` is deprecated and '\n"
          ],
          "name": "stderr"
        }
      ]
    },
    {
      "cell_type": "code",
      "metadata": {
        "id": "BLySbKSAVC8i"
      },
      "source": [
        "def original_values(num):\r\n",
        "    if num==0:\r\n",
        "        return '__label__anger'\r\n",
        "    elif num==1:\r\n",
        "        return '__label__fear'\r\n",
        "    elif num==2:\r\n",
        "        return '__label__disgust'\r\n",
        "    elif num==3:\r\n",
        "        return '__label__joy'\r\n",
        "    elif num==4:\r\n",
        "        return '__label__sadness'\r\n",
        "    elif num==5:\r\n",
        "        return '__label__surprise'   "
      ],
      "execution_count": null,
      "outputs": []
    },
    {
      "cell_type": "code",
      "metadata": {
        "colab": {
          "base_uri": "https://localhost:8080/"
        },
        "id": "EyaSRZS8VE2p",
        "outputId": "2bc7bcff-f653-400c-f1d6-d5303d19dc9f"
      },
      "source": [
        "#convert 0,1,2 back to original form \r\n",
        "pred = np.array([original_values(num) for num in pred2])\r\n",
        "y_test = np.argmax(y_test,axis=-1)\r\n",
        "y_true = np.array([original_values(num) for num in y_test])\r\n",
        "print(classification_report(y_true,pred))"
      ],
      "execution_count": null,
      "outputs": [
        {
          "output_type": "stream",
          "text": [
            "                   precision    recall  f1-score   support\n",
            "\n",
            "   __label__anger       0.88      0.83      0.85     10000\n",
            " __label__disgust       0.91      0.93      0.92     10000\n",
            "    __label__fear       0.93      0.92      0.92     10000\n",
            "     __label__joy       0.86      0.93      0.89     10000\n",
            " __label__sadness       0.95      0.92      0.93     10000\n",
            "__label__surprise       0.93      0.93      0.93     10000\n",
            "\n",
            "         accuracy                           0.91     60000\n",
            "        macro avg       0.91      0.91      0.91     60000\n",
            "     weighted avg       0.91      0.91      0.91     60000\n",
            "\n"
          ],
          "name": "stdout"
        }
      ]
    },
    {
      "cell_type": "code",
      "metadata": {
        "id": "dQSk_urEZNIv"
      },
      "source": [
        ""
      ],
      "execution_count": null,
      "outputs": []
    }
  ]
}